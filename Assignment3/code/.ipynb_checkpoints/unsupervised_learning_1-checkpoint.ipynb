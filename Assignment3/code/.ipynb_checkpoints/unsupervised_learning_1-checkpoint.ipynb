{
 "cells": [
  {
   "cell_type": "code",
   "execution_count": 1,
   "metadata": {},
   "outputs": [],
   "source": [
    "from load_data import load_breast_cancer_data, load_wine_quality_data\n",
    "\n",
    "import numpy as np\n",
    "import matplotlib.pyplot as plt\n",
    "import pandas as pd\n",
    "from sklearn import preprocessing\n",
    "from sklearn.cluster import KMeans\n",
    "from sklearn.metrics import silhouette_score, adjusted_mutual_info_score\n",
    "from sklearn.mixture import GaussianMixture\n",
    "\n",
    "%load_ext autoreload\n",
    "%autoreload 2"
   ]
  },
  {
   "cell_type": "markdown",
   "metadata": {},
   "source": [
    "# Data loading and preprocessing"
   ]
  },
  {
   "cell_type": "code",
   "execution_count": 2,
   "metadata": {},
   "outputs": [
    {
     "name": "stdout",
     "output_type": "stream",
     "text": [
      "<------------------------ Breast Cancer Dataset ------------------------>\n",
      "Total number of examples:  569\n",
      "Fraction of positive examples: 37.26%\n",
      "Number of features:  30\n",
      "\n",
      "<------------------------ Wine Quality Dataset ------------------------>\n",
      "Total number of examples:  4898\n",
      "Fraction of positive examples: 66.52%\n",
      "Number of features:  11\n",
      "\n"
     ]
    }
   ],
   "source": [
    "# Read data\n",
    "X1, y1 = load_breast_cancer_data('../data/breast-cancer-wisconsin-data/data.csv')\n",
    "X2, y2 = load_wine_quality_data('../data/wine-quality/winequality-white.csv')\n",
    "\n",
    "# Print information about the datasets\n",
    "print (\"<------------------------ Breast Cancer Dataset ------------------------>\")\n",
    "print (\"Total number of examples: \", X1.shape[0])\n",
    "print (\"Fraction of positive examples: %.2f%%\" % (y1[y1 == 1].shape[0]/y1.shape[0]*100.0))\n",
    "print (\"Number of features: \", X1.shape[1])\n",
    "print()\n",
    "print (\"<------------------------ Wine Quality Dataset ------------------------>\")\n",
    "print (\"Total number of examples: \", X2.shape[0])\n",
    "print (\"Fraction of positive examples: %.2f%%\" % (y2[y2 == 1].shape[0]/y2.shape[0]*100.0))\n",
    "print (\"Number of features: \", X2.shape[1])\n",
    "print()\n",
    "\n",
    "# Random seed for reproducibility of experiments\n",
    "random_seed = 7641\n",
    "np.random.seed(random_seed)\n",
    "\n",
    "# Standardize data\n",
    "X1 = preprocessing.scale(X1)\n",
    "X2 = preprocessing.scale(X2)"
   ]
  },
  {
   "cell_type": "markdown",
   "metadata": {},
   "source": [
    "# Clustering without dimensionality reduction"
   ]
  },
  {
   "cell_type": "markdown",
   "metadata": {},
   "source": [
    "## k-means"
   ]
  },
  {
   "cell_type": "code",
   "execution_count": 3,
   "metadata": {},
   "outputs": [
    {
     "name": "stdout",
     "output_type": "stream",
     "text": [
      "k =  2\n",
      "k =  3\n",
      "k =  4\n",
      "k =  5\n",
      "k =  6\n",
      "k =  7\n",
      "k =  8\n",
      "k =  9\n",
      "k =  10\n",
      "k =  11\n",
      "k =  12\n",
      "k =  13\n",
      "k =  14\n",
      "k =  15\n",
      "k =  16\n",
      "k =  17\n",
      "k =  18\n",
      "k =  19\n",
      "k =  20\n",
      "k =  21\n",
      "k =  22\n",
      "k =  23\n",
      "k =  24\n",
      "k =  25\n",
      "k =  26\n",
      "k =  27\n",
      "k =  28\n",
      "k =  29\n",
      "k =  30\n"
     ]
    }
   ],
   "source": [
    "# Find the optimal k\n",
    "k_grid = np.arange(2, 31)\n",
    "# k_grid = np.arange(2, 31, 2)\n",
    "loss1 = np.zeros(k_grid.size)\n",
    "loss2 = np.zeros(k_grid.size)\n",
    "for idx, k in enumerate(k_grid):\n",
    "    print (\"k = \", k)\n",
    "    kmeans = KMeans(n_clusters=k, random_state=random_seed, n_jobs=-1)\n",
    "    kmeans.fit(X1)\n",
    "    loss1[idx] = kmeans.inertia_\n",
    "    kmeans.fit(X2)\n",
    "    loss2[idx] = kmeans.inertia_"
   ]
  },
  {
   "cell_type": "code",
   "execution_count": 4,
   "metadata": {},
   "outputs": [
    {
     "ename": "FileNotFoundError",
     "evalue": "[Errno 2] No such file or directory: '../plots/kmeans_loss_1.png'",
     "output_type": "error",
     "traceback": [
      "\u001b[1;31m---------------------------------------------------------------------------\u001b[0m",
      "\u001b[1;31mFileNotFoundError\u001b[0m                         Traceback (most recent call last)",
      "\u001b[1;32m<ipython-input-4-f8000d41eb0e>\u001b[0m in \u001b[0;36m<module>\u001b[1;34m\u001b[0m\n\u001b[0;32m      7\u001b[0m \u001b[0mplt\u001b[0m\u001b[1;33m.\u001b[0m\u001b[0mtitle\u001b[0m\u001b[1;33m(\u001b[0m\u001b[1;34m'Dataset 1'\u001b[0m\u001b[1;33m)\u001b[0m\u001b[1;33m\u001b[0m\u001b[1;33m\u001b[0m\u001b[0m\n\u001b[0;32m      8\u001b[0m \u001b[0mplt\u001b[0m\u001b[1;33m.\u001b[0m\u001b[0mgrid\u001b[0m\u001b[1;33m(\u001b[0m\u001b[1;33m)\u001b[0m\u001b[1;33m\u001b[0m\u001b[1;33m\u001b[0m\u001b[0m\n\u001b[1;32m----> 9\u001b[1;33m \u001b[0mplt\u001b[0m\u001b[1;33m.\u001b[0m\u001b[0msavefig\u001b[0m\u001b[1;33m(\u001b[0m\u001b[1;34m'../plots/kmeans_loss_1.png'\u001b[0m\u001b[1;33m)\u001b[0m\u001b[1;33m\u001b[0m\u001b[1;33m\u001b[0m\u001b[0m\n\u001b[0m\u001b[0;32m     10\u001b[0m \u001b[1;33m\u001b[0m\u001b[0m\n\u001b[0;32m     11\u001b[0m \u001b[0mplt\u001b[0m\u001b[1;33m.\u001b[0m\u001b[0mfigure\u001b[0m\u001b[1;33m(\u001b[0m\u001b[1;33m)\u001b[0m\u001b[1;33m\u001b[0m\u001b[1;33m\u001b[0m\u001b[0m\n",
      "\u001b[1;32mE:\\Users\\User\\Anaconda3\\lib\\site-packages\\matplotlib\\pyplot.py\u001b[0m in \u001b[0;36msavefig\u001b[1;34m(*args, **kwargs)\u001b[0m\n\u001b[0;32m    693\u001b[0m \u001b[1;32mdef\u001b[0m \u001b[0msavefig\u001b[0m\u001b[1;33m(\u001b[0m\u001b[1;33m*\u001b[0m\u001b[0margs\u001b[0m\u001b[1;33m,\u001b[0m \u001b[1;33m**\u001b[0m\u001b[0mkwargs\u001b[0m\u001b[1;33m)\u001b[0m\u001b[1;33m:\u001b[0m\u001b[1;33m\u001b[0m\u001b[1;33m\u001b[0m\u001b[0m\n\u001b[0;32m    694\u001b[0m     \u001b[0mfig\u001b[0m \u001b[1;33m=\u001b[0m \u001b[0mgcf\u001b[0m\u001b[1;33m(\u001b[0m\u001b[1;33m)\u001b[0m\u001b[1;33m\u001b[0m\u001b[1;33m\u001b[0m\u001b[0m\n\u001b[1;32m--> 695\u001b[1;33m     \u001b[0mres\u001b[0m \u001b[1;33m=\u001b[0m \u001b[0mfig\u001b[0m\u001b[1;33m.\u001b[0m\u001b[0msavefig\u001b[0m\u001b[1;33m(\u001b[0m\u001b[1;33m*\u001b[0m\u001b[0margs\u001b[0m\u001b[1;33m,\u001b[0m \u001b[1;33m**\u001b[0m\u001b[0mkwargs\u001b[0m\u001b[1;33m)\u001b[0m\u001b[1;33m\u001b[0m\u001b[1;33m\u001b[0m\u001b[0m\n\u001b[0m\u001b[0;32m    696\u001b[0m     \u001b[0mfig\u001b[0m\u001b[1;33m.\u001b[0m\u001b[0mcanvas\u001b[0m\u001b[1;33m.\u001b[0m\u001b[0mdraw_idle\u001b[0m\u001b[1;33m(\u001b[0m\u001b[1;33m)\u001b[0m   \u001b[1;31m# need this if 'transparent=True' to reset colors\u001b[0m\u001b[1;33m\u001b[0m\u001b[1;33m\u001b[0m\u001b[0m\n\u001b[0;32m    697\u001b[0m     \u001b[1;32mreturn\u001b[0m \u001b[0mres\u001b[0m\u001b[1;33m\u001b[0m\u001b[1;33m\u001b[0m\u001b[0m\n",
      "\u001b[1;32mE:\\Users\\User\\Anaconda3\\lib\\site-packages\\matplotlib\\figure.py\u001b[0m in \u001b[0;36msavefig\u001b[1;34m(self, fname, **kwargs)\u001b[0m\n\u001b[0;32m   2060\u001b[0m             \u001b[0mself\u001b[0m\u001b[1;33m.\u001b[0m\u001b[0mset_frameon\u001b[0m\u001b[1;33m(\u001b[0m\u001b[0mframeon\u001b[0m\u001b[1;33m)\u001b[0m\u001b[1;33m\u001b[0m\u001b[1;33m\u001b[0m\u001b[0m\n\u001b[0;32m   2061\u001b[0m \u001b[1;33m\u001b[0m\u001b[0m\n\u001b[1;32m-> 2062\u001b[1;33m         \u001b[0mself\u001b[0m\u001b[1;33m.\u001b[0m\u001b[0mcanvas\u001b[0m\u001b[1;33m.\u001b[0m\u001b[0mprint_figure\u001b[0m\u001b[1;33m(\u001b[0m\u001b[0mfname\u001b[0m\u001b[1;33m,\u001b[0m \u001b[1;33m**\u001b[0m\u001b[0mkwargs\u001b[0m\u001b[1;33m)\u001b[0m\u001b[1;33m\u001b[0m\u001b[1;33m\u001b[0m\u001b[0m\n\u001b[0m\u001b[0;32m   2063\u001b[0m \u001b[1;33m\u001b[0m\u001b[0m\n\u001b[0;32m   2064\u001b[0m         \u001b[1;32mif\u001b[0m \u001b[0mframeon\u001b[0m\u001b[1;33m:\u001b[0m\u001b[1;33m\u001b[0m\u001b[1;33m\u001b[0m\u001b[0m\n",
      "\u001b[1;32mE:\\Users\\User\\Anaconda3\\lib\\site-packages\\matplotlib\\backend_bases.py\u001b[0m in \u001b[0;36mprint_figure\u001b[1;34m(self, filename, dpi, facecolor, edgecolor, orientation, format, **kwargs)\u001b[0m\n\u001b[0;32m   2261\u001b[0m                 \u001b[0morientation\u001b[0m\u001b[1;33m=\u001b[0m\u001b[0morientation\u001b[0m\u001b[1;33m,\u001b[0m\u001b[1;33m\u001b[0m\u001b[1;33m\u001b[0m\u001b[0m\n\u001b[0;32m   2262\u001b[0m                 \u001b[0mbbox_inches_restore\u001b[0m\u001b[1;33m=\u001b[0m\u001b[0m_bbox_inches_restore\u001b[0m\u001b[1;33m,\u001b[0m\u001b[1;33m\u001b[0m\u001b[1;33m\u001b[0m\u001b[0m\n\u001b[1;32m-> 2263\u001b[1;33m                 **kwargs)\n\u001b[0m\u001b[0;32m   2264\u001b[0m         \u001b[1;32mfinally\u001b[0m\u001b[1;33m:\u001b[0m\u001b[1;33m\u001b[0m\u001b[1;33m\u001b[0m\u001b[0m\n\u001b[0;32m   2265\u001b[0m             \u001b[1;32mif\u001b[0m \u001b[0mbbox_inches\u001b[0m \u001b[1;32mand\u001b[0m \u001b[0mrestore_bbox\u001b[0m\u001b[1;33m:\u001b[0m\u001b[1;33m\u001b[0m\u001b[1;33m\u001b[0m\u001b[0m\n",
      "\u001b[1;32mE:\\Users\\User\\Anaconda3\\lib\\site-packages\\matplotlib\\backends\\backend_agg.py\u001b[0m in \u001b[0;36mprint_png\u001b[1;34m(self, filename_or_obj, *args, **kwargs)\u001b[0m\n\u001b[0;32m    528\u001b[0m \u001b[1;33m\u001b[0m\u001b[0m\n\u001b[0;32m    529\u001b[0m         \u001b[1;32mtry\u001b[0m\u001b[1;33m:\u001b[0m\u001b[1;33m\u001b[0m\u001b[1;33m\u001b[0m\u001b[0m\n\u001b[1;32m--> 530\u001b[1;33m             \u001b[1;32mwith\u001b[0m \u001b[0mcbook\u001b[0m\u001b[1;33m.\u001b[0m\u001b[0mopen_file_cm\u001b[0m\u001b[1;33m(\u001b[0m\u001b[0mfilename_or_obj\u001b[0m\u001b[1;33m,\u001b[0m \u001b[1;34m\"wb\"\u001b[0m\u001b[1;33m)\u001b[0m \u001b[1;32mas\u001b[0m \u001b[0mfh\u001b[0m\u001b[1;33m:\u001b[0m\u001b[1;33m\u001b[0m\u001b[1;33m\u001b[0m\u001b[0m\n\u001b[0m\u001b[0;32m    531\u001b[0m                 _png.write_png(renderer._renderer, fh,\n\u001b[0;32m    532\u001b[0m                                self.figure.dpi, metadata=metadata)\n",
      "\u001b[1;32mE:\\Users\\User\\Anaconda3\\lib\\contextlib.py\u001b[0m in \u001b[0;36m__enter__\u001b[1;34m(self)\u001b[0m\n\u001b[0;32m    110\u001b[0m         \u001b[1;32mdel\u001b[0m \u001b[0mself\u001b[0m\u001b[1;33m.\u001b[0m\u001b[0margs\u001b[0m\u001b[1;33m,\u001b[0m \u001b[0mself\u001b[0m\u001b[1;33m.\u001b[0m\u001b[0mkwds\u001b[0m\u001b[1;33m,\u001b[0m \u001b[0mself\u001b[0m\u001b[1;33m.\u001b[0m\u001b[0mfunc\u001b[0m\u001b[1;33m\u001b[0m\u001b[1;33m\u001b[0m\u001b[0m\n\u001b[0;32m    111\u001b[0m         \u001b[1;32mtry\u001b[0m\u001b[1;33m:\u001b[0m\u001b[1;33m\u001b[0m\u001b[1;33m\u001b[0m\u001b[0m\n\u001b[1;32m--> 112\u001b[1;33m             \u001b[1;32mreturn\u001b[0m \u001b[0mnext\u001b[0m\u001b[1;33m(\u001b[0m\u001b[0mself\u001b[0m\u001b[1;33m.\u001b[0m\u001b[0mgen\u001b[0m\u001b[1;33m)\u001b[0m\u001b[1;33m\u001b[0m\u001b[1;33m\u001b[0m\u001b[0m\n\u001b[0m\u001b[0;32m    113\u001b[0m         \u001b[1;32mexcept\u001b[0m \u001b[0mStopIteration\u001b[0m\u001b[1;33m:\u001b[0m\u001b[1;33m\u001b[0m\u001b[1;33m\u001b[0m\u001b[0m\n\u001b[0;32m    114\u001b[0m             \u001b[1;32mraise\u001b[0m \u001b[0mRuntimeError\u001b[0m\u001b[1;33m(\u001b[0m\u001b[1;34m\"generator didn't yield\"\u001b[0m\u001b[1;33m)\u001b[0m \u001b[1;32mfrom\u001b[0m \u001b[1;32mNone\u001b[0m\u001b[1;33m\u001b[0m\u001b[1;33m\u001b[0m\u001b[0m\n",
      "\u001b[1;32mE:\\Users\\User\\Anaconda3\\lib\\site-packages\\matplotlib\\cbook\\__init__.py\u001b[0m in \u001b[0;36mopen_file_cm\u001b[1;34m(path_or_file, mode, encoding)\u001b[0m\n\u001b[0;32m    624\u001b[0m \u001b[1;32mdef\u001b[0m \u001b[0mopen_file_cm\u001b[0m\u001b[1;33m(\u001b[0m\u001b[0mpath_or_file\u001b[0m\u001b[1;33m,\u001b[0m \u001b[0mmode\u001b[0m\u001b[1;33m=\u001b[0m\u001b[1;34m\"r\"\u001b[0m\u001b[1;33m,\u001b[0m \u001b[0mencoding\u001b[0m\u001b[1;33m=\u001b[0m\u001b[1;32mNone\u001b[0m\u001b[1;33m)\u001b[0m\u001b[1;33m:\u001b[0m\u001b[1;33m\u001b[0m\u001b[1;33m\u001b[0m\u001b[0m\n\u001b[0;32m    625\u001b[0m     \u001b[1;34mr\"\"\"Pass through file objects and context-manage `.PathLike`\\s.\"\"\"\u001b[0m\u001b[1;33m\u001b[0m\u001b[1;33m\u001b[0m\u001b[0m\n\u001b[1;32m--> 626\u001b[1;33m     \u001b[0mfh\u001b[0m\u001b[1;33m,\u001b[0m \u001b[0mopened\u001b[0m \u001b[1;33m=\u001b[0m \u001b[0mto_filehandle\u001b[0m\u001b[1;33m(\u001b[0m\u001b[0mpath_or_file\u001b[0m\u001b[1;33m,\u001b[0m \u001b[0mmode\u001b[0m\u001b[1;33m,\u001b[0m \u001b[1;32mTrue\u001b[0m\u001b[1;33m,\u001b[0m \u001b[0mencoding\u001b[0m\u001b[1;33m)\u001b[0m\u001b[1;33m\u001b[0m\u001b[1;33m\u001b[0m\u001b[0m\n\u001b[0m\u001b[0;32m    627\u001b[0m     \u001b[1;32mif\u001b[0m \u001b[0mopened\u001b[0m\u001b[1;33m:\u001b[0m\u001b[1;33m\u001b[0m\u001b[1;33m\u001b[0m\u001b[0m\n\u001b[0;32m    628\u001b[0m         \u001b[1;32mwith\u001b[0m \u001b[0mfh\u001b[0m\u001b[1;33m:\u001b[0m\u001b[1;33m\u001b[0m\u001b[1;33m\u001b[0m\u001b[0m\n",
      "\u001b[1;32mE:\\Users\\User\\Anaconda3\\lib\\site-packages\\matplotlib\\cbook\\__init__.py\u001b[0m in \u001b[0;36mto_filehandle\u001b[1;34m(fname, flag, return_opened, encoding)\u001b[0m\n\u001b[0;32m    609\u001b[0m             \u001b[0mfh\u001b[0m \u001b[1;33m=\u001b[0m \u001b[0mbz2\u001b[0m\u001b[1;33m.\u001b[0m\u001b[0mBZ2File\u001b[0m\u001b[1;33m(\u001b[0m\u001b[0mfname\u001b[0m\u001b[1;33m,\u001b[0m \u001b[0mflag\u001b[0m\u001b[1;33m)\u001b[0m\u001b[1;33m\u001b[0m\u001b[1;33m\u001b[0m\u001b[0m\n\u001b[0;32m    610\u001b[0m         \u001b[1;32melse\u001b[0m\u001b[1;33m:\u001b[0m\u001b[1;33m\u001b[0m\u001b[1;33m\u001b[0m\u001b[0m\n\u001b[1;32m--> 611\u001b[1;33m             \u001b[0mfh\u001b[0m \u001b[1;33m=\u001b[0m \u001b[0mio\u001b[0m\u001b[1;33m.\u001b[0m\u001b[0mopen\u001b[0m\u001b[1;33m(\u001b[0m\u001b[0mfname\u001b[0m\u001b[1;33m,\u001b[0m \u001b[0mflag\u001b[0m\u001b[1;33m,\u001b[0m \u001b[0mencoding\u001b[0m\u001b[1;33m=\u001b[0m\u001b[0mencoding\u001b[0m\u001b[1;33m)\u001b[0m\u001b[1;33m\u001b[0m\u001b[1;33m\u001b[0m\u001b[0m\n\u001b[0m\u001b[0;32m    612\u001b[0m         \u001b[0mopened\u001b[0m \u001b[1;33m=\u001b[0m \u001b[1;32mTrue\u001b[0m\u001b[1;33m\u001b[0m\u001b[1;33m\u001b[0m\u001b[0m\n\u001b[0;32m    613\u001b[0m     \u001b[1;32melif\u001b[0m \u001b[0mhasattr\u001b[0m\u001b[1;33m(\u001b[0m\u001b[0mfname\u001b[0m\u001b[1;33m,\u001b[0m \u001b[1;34m'seek'\u001b[0m\u001b[1;33m)\u001b[0m\u001b[1;33m:\u001b[0m\u001b[1;33m\u001b[0m\u001b[1;33m\u001b[0m\u001b[0m\n",
      "\u001b[1;31mFileNotFoundError\u001b[0m: [Errno 2] No such file or directory: '../plots/kmeans_loss_1.png'"
     ]
    },
    {
     "data": {
      "image/png": "[encoded data removed]",
      "text/plain": [
       "<Figure size 432x288 with 1 Axes>"
      ]
     },
     "metadata": {
      "needs_background": "light"
     },
     "output_type": "display_data"
    }
   ],
   "source": [
    "# Plot loss vs k to find best k\n",
    "plt.figure()\n",
    "plt.plot(k_grid, loss1)\n",
    "# plt.xticks(k_grid)\n",
    "plt.xlabel('k')\n",
    "plt.ylabel('Loss')\n",
    "plt.title('Dataset 1')\n",
    "plt.grid()\n",
    "plt.savefig('../plots/kmeans_loss_1.png')\n",
    "\n",
    "plt.figure()\n",
    "plt.plot(k_grid, loss2)\n",
    "# plt.xticks(k_grid)\n",
    "plt.xlabel('k')\n",
    "plt.ylabel('Loss')\n",
    "plt.title('Dataset 2')\n",
    "plt.grid()\n",
    "plt.savefig('../plots/kmeans_loss_2.png')"
   ]
  },
  {
   "cell_type": "code",
   "execution_count": null,
   "metadata": {},
   "outputs": [],
   "source": [
    "# Choose k according to the approximate elbow location\n",
    "k1 = 9\n",
    "k2 = 9"
   ]
  },
  {
   "cell_type": "code",
   "execution_count": null,
   "metadata": {},
   "outputs": [],
   "source": [
    "# Run kmeans again with optimal k values\n",
    "kmeans1 = KMeans(n_clusters=k1, random_state=random_seed, max_iter=300, n_jobs=-1)\n",
    "kmeans2 = KMeans(n_clusters=k2, random_state=random_seed, max_iter=300, n_jobs=-1)\n",
    "kmeans1.fit(X1)\n",
    "kmeans2.fit(X2)"
   ]
  },
  {
   "cell_type": "markdown",
   "metadata": {},
   "source": [
    "### Evaluate quality of clusters"
   ]
  },
  {
   "cell_type": "code",
   "execution_count": null,
   "metadata": {},
   "outputs": [],
   "source": [
    "print (\"<------------------------ Dataset 1 ------------------------>\")\n",
    "print('Inertia: ', kmeans1.inertia_)\n",
    "score1 = silhouette_score(X1, kmeans1.labels_)\n",
    "print('Silhouette score: ', score1)\n",
    "ami1 = adjusted_mutual_info_score(y1, kmeans1.labels_)\n",
    "print('Adjusted Mutual Information (AMI) score: ', ami1)\n",
    "print()\n",
    "print (\"<------------------------ Dataset 2 ------------------------>\")\n",
    "print('Inertia: ', kmeans2.inertia_)\n",
    "score2 = silhouette_score(X2, kmeans2.labels_)\n",
    "print('Silhouette score: ', score2)\n",
    "ami2 = adjusted_mutual_info_score(y2, kmeans2.labels_)\n",
    "print('Adjusted Mutual Information (AMI) score: ', ami2)\n",
    "print()"
   ]
  },
  {
   "cell_type": "markdown",
   "metadata": {},
   "source": [
    "### Visualization of clusters"
   ]
  },
  {
   "cell_type": "code",
   "execution_count": null,
   "metadata": {},
   "outputs": [],
   "source": [
    "# Dataset 1\n",
    "plt.figure()\n",
    "plt.hist(kmeans1.labels_, bins=np.arange(0, k1 + 1) - 0.5, rwidth=0.5, zorder=2)\n",
    "plt.xticks(np.arange(0, k1))\n",
    "plt.xlabel('Cluster label')\n",
    "plt.ylabel('Number of samples')\n",
    "plt.title('Dataset 1')\n",
    "plt.grid()\n",
    "plt.savefig('../plots/kmeans_hist_1.png')\n",
    "\n",
    "# Dataset 2\n",
    "plt.figure()\n",
    "plt.hist(kmeans2.labels_, bins=np.arange(0, k2 + 1) - 0.5, rwidth=0.5, zorder=2)\n",
    "plt.xticks(np.arange(0, k2))\n",
    "plt.xlabel('Cluster label')\n",
    "plt.ylabel('Number of samples')\n",
    "plt.title('Dataset 2')\n",
    "plt.grid()\n",
    "plt.savefig('../plots/kmeans_hist_2.png')"
   ]
  },
  {
   "cell_type": "code",
   "execution_count": null,
   "metadata": {},
   "outputs": [],
   "source": [
    "# Dataset 1\n",
    "df1 = pd.read_csv('../data/breast-cancer-wisconsin-data/data.csv', nrows=1)\n",
    "to_drop = ['Unnamed: 32', 'id', 'diagnosis']\n",
    "df1 = df1.drop(to_drop, axis=1)\n",
    "cols1 = df1.columns\n",
    "df1 = pd.DataFrame(X1, columns = cols1)\n",
    "df1['diagnosis'] = y1\n",
    "df1['class'] = kmeans1.labels_\n",
    "print(df1.head(5))\n",
    "\n",
    "# Parallel coordinates plot\n",
    "rand_idx1 = np.random.randint(0, df1.shape[1] - 2, 5)   # randomly pick 5 features for visualization\n",
    "idx_viz1 = np.append(rand_idx1, [df1.shape[1] - 2, df1.shape[1] - 1])    # Add ground truth label and cluster label\n",
    "\n",
    "# plt.figure(figsize=(10, 7.5), dpi=250)\n",
    "plt.figure(figsize=(8, 6), dpi=200)\n",
    "pd.plotting.parallel_coordinates(df1.iloc[:, idx_viz1], 'class', colormap='Set1')\n",
    "plt.xticks(rotation=30)\n",
    "plt.xlabel('Features')\n",
    "plt.ylabel('Value (standardized)')\n",
    "plt.title('Dataset 1: k-means visualization')\n",
    "plt.tight_layout()\n",
    "plt.savefig('../plots/kmeans_viz_1.png')\n",
    "\n",
    "# Dataset 2\n",
    "df2 = pd.read_csv('../data/wine-quality/winequality-white.csv', sep=';', nrows=1)\n",
    "to_drop = [\"quality\"]\n",
    "df2 = df2.drop(to_drop, axis=1)\n",
    "cols2 = df2.columns\n",
    "df2 = pd.DataFrame(X2, columns = cols2)\n",
    "df2['quality'] = y2\n",
    "df2['class'] = kmeans2.labels_\n",
    "print(df2.head(5))\n",
    "\n",
    "# Parallel coordinates plot\n",
    "rand_idx2 = np.random.randint(0, df2.shape[1] - 2, 5)   # randomly pick 5 features for visualization\n",
    "idx_viz2 = np.append(rand_idx2, [df2.shape[1] - 2, df2.shape[1] - 1])    # Add ground truth label and cluster label\n",
    "\n",
    "# plt.figure(figsize=(10, 7.5), dpi=250)\n",
    "plt.figure(figsize=(8, 6), dpi=200)\n",
    "pd.plotting.parallel_coordinates(df2.iloc[:, idx_viz2], 'class', colormap='Set1')\n",
    "plt.xticks(rotation=30)\n",
    "plt.xlabel('Features')\n",
    "plt.ylabel('Value (standardized)')\n",
    "plt.title('Dataset 2: k-means visualization')\n",
    "plt.tight_layout()\n",
    "plt.savefig('../plots/kmeans_viz_2.png')"
   ]
  },
  {
   "cell_type": "markdown",
   "metadata": {},
   "source": [
    "## GMM"
   ]
  },
  {
   "cell_type": "code",
   "execution_count": null,
   "metadata": {},
   "outputs": [],
   "source": [
    "# Find the optimal number of components using BIC\n",
    "n_components_grid1 = np.arange(2, 31)\n",
    "n_components_grid2 = np.arange(2, 51)\n",
    "bic1 = np.zeros(n_components_grid1.size)\n",
    "bic2 = np.zeros(n_components_grid2.size)\n",
    "\n",
    "print (\"<------------------------ Dataset 1 ------------------------>\")\n",
    "for idx, n_components in enumerate(n_components_grid1):\n",
    "    print (\"Number of components = \", n_components)\n",
    "    gmm1 = GaussianMixture(n_components=n_components, random_state=random_seed)\n",
    "    gmm1.fit(X1)\n",
    "    bic1[idx] = gmm1.bic(X1)\n",
    "print()\n",
    "print (\"<------------------------ Dataset 2 ------------------------>\")\n",
    "for idx, n_components in enumerate(n_components_grid2):\n",
    "    print (\"Number of components = \", n_components)\n",
    "    gmm2 = GaussianMixture(n_components=n_components, random_state=random_seed)\n",
    "    gmm2.fit(X2)\n",
    "    bic2[idx] = gmm2.bic(X2)"
   ]
  },
  {
   "cell_type": "code",
   "execution_count": null,
   "metadata": {},
   "outputs": [],
   "source": [
    "# Plot BIC vs number of components\n",
    "plt.figure()\n",
    "plt.plot(n_components_grid1, bic1)\n",
    "# plt.xticks(k_grid)\n",
    "plt.xlabel('Number of components')\n",
    "plt.ylabel('BIC')\n",
    "plt.title('Dataset 1')\n",
    "plt.grid()\n",
    "plt.savefig('../plots/gmm_bic_1.png')\n",
    "\n",
    "plt.figure()\n",
    "plt.plot(n_components_grid2, bic2)\n",
    "# plt.xticks(k_grid)\n",
    "plt.xlabel('Number of components')\n",
    "plt.ylabel('BIC')\n",
    "plt.title('Dataset 2')\n",
    "plt.grid()\n",
    "plt.savefig('../plots/gmm_bic_2.png')"
   ]
  },
  {
   "cell_type": "code",
   "execution_count": null,
   "metadata": {},
   "outputs": [],
   "source": [
    "n_best_1 = n_components_grid1[np.argmin(bic1)]\n",
    "print('Optimal number of components for dataset 1: ', n_best_1)\n",
    "n_best_2 = n_components_grid2[np.argmin(bic2)]\n",
    "print('Optimal number of components for dataset 2: ', n_best_2)"
   ]
  },
  {
   "cell_type": "code",
   "execution_count": null,
   "metadata": {},
   "outputs": [],
   "source": [
    "# Run GMM-EM again with the optimal number of components\n",
    "gmm1 = GaussianMixture(n_components=n_best_1, random_state=random_seed, max_iter=1000)\n",
    "gmm2 = GaussianMixture(n_components=n_best_2, random_state=random_seed, max_iter=1000)\n",
    "gmm1.fit(X1)\n",
    "gmm_labels1 = gmm1.predict(X1)\n",
    "gmm2.fit(X2)\n",
    "gmm_labels2 = gmm2.predict(X2)"
   ]
  },
  {
   "cell_type": "markdown",
   "metadata": {},
   "source": [
    "### Evaluate quality of clusters"
   ]
  },
  {
   "cell_type": "code",
   "execution_count": null,
   "metadata": {},
   "outputs": [],
   "source": [
    "print (\"<------------------------ Dataset 1 ------------------------>\")\n",
    "print('BIC: ', gmm1.bic(X1))\n",
    "score1_gmm = silhouette_score(X1, gmm_labels1)\n",
    "print('Silhouette score: ', score1_gmm)\n",
    "ami1_gmm = adjusted_mutual_info_score(y1, gmm_labels1)\n",
    "print('Adjusted Mutual Information (AMI) score: ', ami1_gmm)\n",
    "print()\n",
    "print (\"<------------------------ Dataset 2 ------------------------>\")\n",
    "print('BIC: ', gmm2.bic(X2))\n",
    "score2_gmm = silhouette_score(X2, gmm_labels2)\n",
    "print('Silhouette score: ', score2_gmm)\n",
    "ami2_gmm = adjusted_mutual_info_score(y2, gmm_labels2)\n",
    "print('Adjusted Mutual Information (AMI) score: ', ami2_gmm)\n",
    "print()"
   ]
  },
  {
   "cell_type": "markdown",
   "metadata": {},
   "source": [
    "### Visualization of clusters"
   ]
  },
  {
   "cell_type": "code",
   "execution_count": null,
   "metadata": {},
   "outputs": [],
   "source": [
    "# Dataset 1\n",
    "plt.figure()\n",
    "plt.hist(gmm_labels1, bins=np.arange(0, n_best_1 + 1) - 0.5, rwidth=0.5, zorder=2)\n",
    "plt.xticks(np.arange(0, n_best_1))\n",
    "plt.xlabel('Cluster label')\n",
    "plt.ylabel('Number of samples')\n",
    "plt.title('Dataset 1')\n",
    "plt.grid()\n",
    "plt.savefig('../plots/gmm_hist_1.png')\n",
    "\n",
    "# Dataset 2\n",
    "plt.figure()\n",
    "plt.hist(gmm_labels2, bins=np.arange(0, n_best_2 + 1) - 0.5, rwidth=0.5, zorder=2)\n",
    "plt.xticks(np.arange(0, n_best_2))\n",
    "plt.xlabel('Cluster label')\n",
    "plt.ylabel('Number of samples')\n",
    "plt.title('Dataset 2')\n",
    "plt.grid()\n",
    "plt.savefig('../plots/gmm_hist_2.png')"
   ]
  },
  {
   "cell_type": "code",
   "execution_count": null,
   "metadata": {},
   "outputs": [],
   "source": [
    "# Dataset 1\n",
    "df1_gmm = pd.read_csv('../data/breast-cancer-wisconsin-data/data.csv', nrows=1)\n",
    "to_drop = ['Unnamed: 32', 'id', 'diagnosis']\n",
    "df1_gmm = df1_gmm.drop(to_drop, axis=1)\n",
    "cols1 = df1_gmm.columns\n",
    "df1_gmm = pd.DataFrame(X1, columns = cols1)\n",
    "df1_gmm['diagnosis'] = y1\n",
    "df1_gmm['class'] = gmm_labels1\n",
    "print(df1_gmm.head(5))\n",
    "\n",
    "# Parallel coordinates plot\n",
    "idx_viz1_gmm = idx_viz1    # pick the same 5 features used in kmeans for visualization\n",
    "\n",
    "# plt.figure(figsize=(10, 7.5), dpi=250)\n",
    "plt.figure(figsize=(8, 6), dpi=200)\n",
    "pd.plotting.parallel_coordinates(df1_gmm.iloc[:, idx_viz1_gmm], 'class', colormap='Set1')\n",
    "plt.xticks(rotation=30)\n",
    "plt.xlabel('Features')\n",
    "plt.ylabel('Value (standardized)')\n",
    "plt.title('Dataset 1: GMM-EM visualization')\n",
    "plt.tight_layout()\n",
    "plt.savefig('../plots/gmm_viz_1.png')\n",
    "\n",
    "# Dataset 2\n",
    "df2_gmm = pd.read_csv('../data/wine-quality/winequality-white.csv', sep=';', nrows=1)\n",
    "to_drop = [\"quality\"]\n",
    "df2_gmm = df2_gmm.drop(to_drop, axis=1)\n",
    "cols2 = df2_gmm.columns\n",
    "df2_gmm = pd.DataFrame(X2, columns = cols2)\n",
    "df2_gmm['quality'] = y2\n",
    "df2_gmm['class'] = gmm_labels2\n",
    "print(df2_gmm.head(5))\n",
    "\n",
    "# Parallel coordinates plot\n",
    "idx_viz2_gmm = idx_viz2    # pick the same 5 features used in kmeans for visualization\n",
    "\n",
    "# plt.figure(figsize=(10, 7.5), dpi=250)\n",
    "plt.figure(figsize=(8, 6), dpi=200)\n",
    "pd.plotting.parallel_coordinates(df2_gmm.iloc[:, idx_viz2_gmm], 'class', colormap='Set1')\n",
    "plt.xticks(rotation=30)\n",
    "plt.xlabel('Features')\n",
    "plt.ylabel('Value (standardized)')\n",
    "plt.title('Dataset 2: GMM-EM visualization')\n",
    "plt.tight_layout()\n",
    "plt.savefig('../plots/gmm_viz_2.png')"
   ]
  },
  {
   "cell_type": "code",
   "execution_count": null,
   "metadata": {},
   "outputs": [],
   "source": [
    "plt.figure()\n",
    "plt.barh(np.arange(n_best_1), gmm1.weights_, zorder=2)\n",
    "plt.gca().invert_yaxis()  # labels read top-to-bottom\n",
    "plt.title('Dataset 1')\n",
    "plt.xlabel('Weight')\n",
    "plt.grid()\n",
    "plt.savefig('../plots/gmm_wts_1.png')\n",
    "\n",
    "plt.figure()\n",
    "plt.barh(np.arange(n_best_2), gmm2.weights_, zorder=2)\n",
    "plt.gca().set_yticks(np.arange(n_best_2))\n",
    "plt.gca().invert_yaxis()  # labels read top-to-bottom\n",
    "plt.title('Dataset 2')\n",
    "plt.xlabel('Weight')\n",
    "plt.grid()\n",
    "plt.savefig('../plots/gmm_wts_2.png')"
   ]
  },
  {
   "cell_type": "code",
   "execution_count": null,
   "metadata": {},
   "outputs": [],
   "source": [
    "probs1 = np.amax(gmm1.predict_proba(X1), axis=1)\n",
    "plt.figure()\n",
    "plt.barh(np.arange(X1.shape[0]), probs1, zorder=2)\n",
    "plt.gca().invert_yaxis()  # labels read top-to-bottom\n",
    "plt.title('Dataset 1')\n",
    "plt.xlabel('Posterior probabilities')\n",
    "plt.grid()\n",
    "plt.savefig('../plots/gmm_probs_1.png')\n",
    "\n",
    "probs2 = np.amax(gmm2.predict_proba(X2), axis=1)\n",
    "plt.figure()\n",
    "plt.barh(np.arange(X2.shape[0]), probs2, zorder=2)\n",
    "plt.gca().invert_yaxis()  # labels read top-to-bottom\n",
    "plt.title('Dataset 2')\n",
    "plt.xlabel('Posterior probabilities')\n",
    "plt.grid()\n",
    "plt.savefig('../plots/gmm_probs_2.png')"
   ]
  },
  {
   "cell_type": "code",
   "execution_count": null,
   "metadata": {},
   "outputs": [],
   "source": []
  }
 ],
 "metadata": {
  "kernelspec": {
   "display_name": "Python 3",
   "language": "python",
   "name": "python3"
  },
  "language_info": {
   "codemirror_mode": {
    "name": "ipython",
    "version": 3
   },
   "file_extension": ".py",
   "mimetype": "text/x-python",
   "name": "python",
   "nbconvert_exporter": "python",
   "pygments_lexer": "ipython3",
   "version": "3.7.1"
  }
 },
 "nbformat": 4,
 "nbformat_minor": 2
}
